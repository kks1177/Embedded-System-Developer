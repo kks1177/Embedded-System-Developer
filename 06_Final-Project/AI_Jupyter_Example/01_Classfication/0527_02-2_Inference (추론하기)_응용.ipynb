{
 "cells": [
  {
   "cell_type": "markdown",
   "id": "5acfeac0",
   "metadata": {},
   "source": [
    "# 추론하기"
   ]
  },
  {
   "cell_type": "code",
   "execution_count": 1,
   "id": "b0ffb339",
   "metadata": {},
   "outputs": [],
   "source": [
    "import cv2\n",
    "import time\n",
    "\n",
    "import bready.camera_utils.PyCamera as PyCamera\n",
    "from bready.classification_tools import Classifier\n",
    "\n",
    "import ipywidgets.widgets as widgets\n",
    "import IPython.display"
   ]
  },
  {
   "cell_type": "code",
   "execution_count": 2,
   "id": "a55faa35",
   "metadata": {},
   "outputs": [
    {
     "name": "stdout",
     "output_type": "stream",
     "text": [
      "Model을 불러오는 중...\n",
      "WARNING:tensorflow:No training configuration found in the save file, so the model was *not* compiled. Compile it manually.\n",
      "Class Label을 불러오는 중...\n",
      "전처리 옵션 설정 중...\n",
      "이미지 추론 진행 중 (클래스가 처음 만들어질 때만 1번 실행)\n"
     ]
    }
   ],
   "source": [
    "save_model_path = \"training_models\"\n",
    "tester = Classifier.Tester(save_model_path)"
   ]
  },
  {
   "cell_type": "code",
   "execution_count": 3,
   "id": "451b638b",
   "metadata": {},
   "outputs": [
    {
     "name": "stdout",
     "output_type": "stream",
     "text": [
      "카메라 정보  : \n",
      "Camera Index : 1\n",
      "Camera Width : 640.0\n",
      "Camera Height : 480.0\n",
      "DSHOW_OPTION : False\n"
     ]
    }
   ],
   "source": [
    "camera = PyCamera.USBCamera(1, 640, 360, DSHOW_OPTION=False)"
   ]
  },
  {
   "cell_type": "code",
   "execution_count": 4,
   "id": "3bdf4559",
   "metadata": {},
   "outputs": [
    {
     "data": {
      "application/vnd.jupyter.widget-view+json": {
       "model_id": "71dc4eff216545a785fc3ffa01b27d46",
       "version_major": 2,
       "version_minor": 0
      },
      "text/plain": [
       "Image(value=b'', format='jpeg')"
      ]
     },
     "metadata": {},
     "output_type": "display_data"
    }
   ],
   "source": [
    "image_widget = widgets.Image(format='jpeg')\n",
    "IPython.display.display(image_widget)"
   ]
  },
  {
   "cell_type": "code",
   "execution_count": 5,
   "id": "59a5b01b",
   "metadata": {},
   "outputs": [
    {
     "name": "stdout",
     "output_type": "stream",
     "text": [
      "종료\n"
     ]
    }
   ],
   "source": [
    "try:\n",
    "    while(True):\n",
    "        frame = camera.get_frame()\n",
    "        \n",
    "        if (not camera.isOpened()):\n",
    "            break\n",
    "        \n",
    "        tester.execute(frame)\n",
    "\n",
    "        if tester.checkClassifiedResult(class_name = 'Can'):\n",
    "            data = \"It is Can.\"\n",
    "        else:\n",
    "            data = \"It is Bottle\"\n",
    "        \n",
    "        class_name = tester.getTopClassName()\n",
    "        class_score = tester.getTopClassScores()\n",
    "\n",
    "        text_label = class_name + \" : \" + str(round(class_score * 100, 2)) + \"%\"\n",
    "        text_label2 = data\n",
    "        \n",
    "        cv2.putText(\n",
    "            img = frame,\n",
    "            text = text_label,\n",
    "            org = (30, 40),\n",
    "            fontFace = cv2.FONT_HERSHEY_SIMPLEX,\n",
    "            fontScale = frame.shape[0] * 2.5e-3,\n",
    "            color = (255, 0, 255),\n",
    "            thickness = 2,\n",
    "            lineType = cv2.LINE_AA\n",
    "        )\n",
    "        cv2.putText(\n",
    "            img = frame,\n",
    "            text = text_label2,\n",
    "            org = (30, 360),\n",
    "            fontFace = cv2.FONT_HERSHEY_SIMPLEX,\n",
    "            fontScale = frame.shape[0] * 2.5e-3,\n",
    "            color = (255, 255, 0),\n",
    "            thickness = 2,\n",
    "            lineType = cv2.LINE_AA\n",
    "        )\n",
    "\n",
    "        tmpStream = cv2.imencode(\".jpeg\", frame)[1].tobytes()\n",
    "        image_widget.value = tmpStream\n",
    "        time.sleep(0.001)\n",
    "\n",
    "except KeyboardInterrupt:\n",
    "    pass\n",
    "except Exception as e:\n",
    "    import traceback\n",
    "    traceback.print_exc()\n",
    "    print(e)\n",
    "\n",
    "finally:\n",
    "    print(\"종료\")"
   ]
  },
  {
   "cell_type": "code",
   "execution_count": 6,
   "id": "62168b8f",
   "metadata": {},
   "outputs": [],
   "source": [
    "camera.dispose()\n",
    "tester.dispose()"
   ]
  },
  {
   "cell_type": "code",
   "execution_count": null,
   "id": "0aa2c4c7",
   "metadata": {},
   "outputs": [],
   "source": []
  }
 ],
 "metadata": {
  "kernelspec": {
   "display_name": "Python 3",
   "language": "python",
   "name": "python3"
  },
  "language_info": {
   "codemirror_mode": {
    "name": "ipython",
    "version": 3
   },
   "file_extension": ".py",
   "mimetype": "text/x-python",
   "name": "python",
   "nbconvert_exporter": "python",
   "pygments_lexer": "ipython3",
   "version": "3.6.8"
  }
 },
 "nbformat": 4,
 "nbformat_minor": 5
}
