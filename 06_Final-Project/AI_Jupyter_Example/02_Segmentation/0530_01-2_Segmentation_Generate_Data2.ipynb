{
 "cells": [
  {
   "cell_type": "markdown",
   "id": "82139bff",
   "metadata": {},
   "source": [
    "# Segmentation_Generate_Data2"
   ]
  },
  {
   "cell_type": "code",
   "execution_count": 1,
   "id": "700eed33",
   "metadata": {},
   "outputs": [
    {
     "name": "stdout",
     "output_type": "stream",
     "text": [
      "Segmentation Models: using `keras` framework.\n"
     ]
    }
   ],
   "source": [
    "from bready.semantic_segmentation_tools import SemanticSegmentation"
   ]
  },
  {
   "cell_type": "code",
   "execution_count": 2,
   "id": "9936ba71",
   "metadata": {},
   "outputs": [],
   "source": [
    "trainer = SemanticSegmentation.Trainer()"
   ]
  },
  {
   "cell_type": "code",
   "execution_count": 3,
   "id": "f8306916",
   "metadata": {},
   "outputs": [],
   "source": [
    "original_data_path = \"C:/Embedded_System/06_Raspberry Pi/05_비전(시각형) AI/AI-X/segmentation1_dataset/seg1_dataset_v\"\n",
    "annotation_data_path = \"C:/Embedded_System/06_Raspberry Pi/05_비전(시각형) AI/AI-X/segmentation1_dataset/seg1_dataset_v\"\n",
    "class_file_path = \"C:/Embedded_System/06_Raspberry Pi/05_비전(시각형) AI/AI-X/segmentation1_dataset/seg1_classes.txt\""
   ]
  },
  {
   "cell_type": "code",
   "execution_count": 4,
   "id": "1c220f8a",
   "metadata": {},
   "outputs": [],
   "source": [
    "trainer.setImageDirectory(original_data_path)\n",
    "trainer.setAnnotationDirectory(annotation_data_path)\n",
    "trainer.setClassPath(class_file_path)"
   ]
  },
  {
   "cell_type": "code",
   "execution_count": 5,
   "id": "aa4d3295",
   "metadata": {},
   "outputs": [],
   "source": [
    "train_dataset_path = \"seg1_validation\"\n",
    "trainer.setDataDirectory(train_dataset_path)"
   ]
  },
  {
   "cell_type": "code",
   "execution_count": 6,
   "id": "03a4cbd5",
   "metadata": {
    "scrolled": true
   },
   "outputs": [
    {
     "name": "stdout",
     "output_type": "stream",
     "text": [
      "Transferring C:/Embedded_System/06_Raspberry Pi/05_비전(시각형) AI/AI-X/segmentation1_dataset/seg1_dataset_v\\circle (1).json\n",
      "Transferring C:/Embedded_System/06_Raspberry Pi/05_비전(시각형) AI/AI-X/segmentation1_dataset/seg1_dataset_v\\circle (10).json\n",
      "Transferring C:/Embedded_System/06_Raspberry Pi/05_비전(시각형) AI/AI-X/segmentation1_dataset/seg1_dataset_v\\circle (11).json\n",
      "Transferring C:/Embedded_System/06_Raspberry Pi/05_비전(시각형) AI/AI-X/segmentation1_dataset/seg1_dataset_v\\circle (12).json\n",
      "Transferring C:/Embedded_System/06_Raspberry Pi/05_비전(시각형) AI/AI-X/segmentation1_dataset/seg1_dataset_v\\circle (13).json\n",
      "Transferring C:/Embedded_System/06_Raspberry Pi/05_비전(시각형) AI/AI-X/segmentation1_dataset/seg1_dataset_v\\circle (14).json\n",
      "Transferring C:/Embedded_System/06_Raspberry Pi/05_비전(시각형) AI/AI-X/segmentation1_dataset/seg1_dataset_v\\circle (15).json\n",
      "Transferring C:/Embedded_System/06_Raspberry Pi/05_비전(시각형) AI/AI-X/segmentation1_dataset/seg1_dataset_v\\circle (2).json\n",
      "Transferring C:/Embedded_System/06_Raspberry Pi/05_비전(시각형) AI/AI-X/segmentation1_dataset/seg1_dataset_v\\circle (3).json\n",
      "Transferring C:/Embedded_System/06_Raspberry Pi/05_비전(시각형) AI/AI-X/segmentation1_dataset/seg1_dataset_v\\circle (4).json\n",
      "Transferring C:/Embedded_System/06_Raspberry Pi/05_비전(시각형) AI/AI-X/segmentation1_dataset/seg1_dataset_v\\circle (5).json\n",
      "Transferring C:/Embedded_System/06_Raspberry Pi/05_비전(시각형) AI/AI-X/segmentation1_dataset/seg1_dataset_v\\circle (6).json\n",
      "Transferring C:/Embedded_System/06_Raspberry Pi/05_비전(시각형) AI/AI-X/segmentation1_dataset/seg1_dataset_v\\circle (7).json\n",
      "Transferring C:/Embedded_System/06_Raspberry Pi/05_비전(시각형) AI/AI-X/segmentation1_dataset/seg1_dataset_v\\circle (8).json\n",
      "Transferring C:/Embedded_System/06_Raspberry Pi/05_비전(시각형) AI/AI-X/segmentation1_dataset/seg1_dataset_v\\circle (9).json\n",
      "Transferring C:/Embedded_System/06_Raspberry Pi/05_비전(시각형) AI/AI-X/segmentation1_dataset/seg1_dataset_v\\squared (1).json\n",
      "Transferring C:/Embedded_System/06_Raspberry Pi/05_비전(시각형) AI/AI-X/segmentation1_dataset/seg1_dataset_v\\squared (10).json\n",
      "Transferring C:/Embedded_System/06_Raspberry Pi/05_비전(시각형) AI/AI-X/segmentation1_dataset/seg1_dataset_v\\squared (11).json\n",
      "Transferring C:/Embedded_System/06_Raspberry Pi/05_비전(시각형) AI/AI-X/segmentation1_dataset/seg1_dataset_v\\squared (12).json\n",
      "Transferring C:/Embedded_System/06_Raspberry Pi/05_비전(시각형) AI/AI-X/segmentation1_dataset/seg1_dataset_v\\squared (13).json\n",
      "Transferring C:/Embedded_System/06_Raspberry Pi/05_비전(시각형) AI/AI-X/segmentation1_dataset/seg1_dataset_v\\squared (14).json\n",
      "Transferring C:/Embedded_System/06_Raspberry Pi/05_비전(시각형) AI/AI-X/segmentation1_dataset/seg1_dataset_v\\squared (15).json\n",
      "Transferring C:/Embedded_System/06_Raspberry Pi/05_비전(시각형) AI/AI-X/segmentation1_dataset/seg1_dataset_v\\squared (2).json\n",
      "Transferring C:/Embedded_System/06_Raspberry Pi/05_비전(시각형) AI/AI-X/segmentation1_dataset/seg1_dataset_v\\squared (3).json\n",
      "Transferring C:/Embedded_System/06_Raspberry Pi/05_비전(시각형) AI/AI-X/segmentation1_dataset/seg1_dataset_v\\squared (4).json\n",
      "Transferring C:/Embedded_System/06_Raspberry Pi/05_비전(시각형) AI/AI-X/segmentation1_dataset/seg1_dataset_v\\squared (5).json\n",
      "Transferring C:/Embedded_System/06_Raspberry Pi/05_비전(시각형) AI/AI-X/segmentation1_dataset/seg1_dataset_v\\squared (6).json\n",
      "Transferring C:/Embedded_System/06_Raspberry Pi/05_비전(시각형) AI/AI-X/segmentation1_dataset/seg1_dataset_v\\squared (7).json\n",
      "Transferring C:/Embedded_System/06_Raspberry Pi/05_비전(시각형) AI/AI-X/segmentation1_dataset/seg1_dataset_v\\squared (8).json\n",
      "Transferring C:/Embedded_System/06_Raspberry Pi/05_비전(시각형) AI/AI-X/segmentation1_dataset/seg1_dataset_v\\squared (9).json\n",
      "Transferring C:/Embedded_System/06_Raspberry Pi/05_비전(시각형) AI/AI-X/segmentation1_dataset/seg1_dataset_v\\triangle (1).json\n",
      "Transferring C:/Embedded_System/06_Raspberry Pi/05_비전(시각형) AI/AI-X/segmentation1_dataset/seg1_dataset_v\\triangle (10).json\n",
      "Transferring C:/Embedded_System/06_Raspberry Pi/05_비전(시각형) AI/AI-X/segmentation1_dataset/seg1_dataset_v\\triangle (11).json\n",
      "Transferring C:/Embedded_System/06_Raspberry Pi/05_비전(시각형) AI/AI-X/segmentation1_dataset/seg1_dataset_v\\triangle (12).json\n",
      "Transferring C:/Embedded_System/06_Raspberry Pi/05_비전(시각형) AI/AI-X/segmentation1_dataset/seg1_dataset_v\\triangle (13).json\n",
      "Transferring C:/Embedded_System/06_Raspberry Pi/05_비전(시각형) AI/AI-X/segmentation1_dataset/seg1_dataset_v\\triangle (14).json\n",
      "Transferring C:/Embedded_System/06_Raspberry Pi/05_비전(시각형) AI/AI-X/segmentation1_dataset/seg1_dataset_v\\triangle (15).json\n",
      "Transferring C:/Embedded_System/06_Raspberry Pi/05_비전(시각형) AI/AI-X/segmentation1_dataset/seg1_dataset_v\\triangle (2).json\n",
      "Transferring C:/Embedded_System/06_Raspberry Pi/05_비전(시각형) AI/AI-X/segmentation1_dataset/seg1_dataset_v\\triangle (3).json\n",
      "Transferring C:/Embedded_System/06_Raspberry Pi/05_비전(시각형) AI/AI-X/segmentation1_dataset/seg1_dataset_v\\triangle (4).json\n",
      "Transferring C:/Embedded_System/06_Raspberry Pi/05_비전(시각형) AI/AI-X/segmentation1_dataset/seg1_dataset_v\\triangle (5).json\n",
      "Transferring C:/Embedded_System/06_Raspberry Pi/05_비전(시각형) AI/AI-X/segmentation1_dataset/seg1_dataset_v\\triangle (6).json\n",
      "Transferring C:/Embedded_System/06_Raspberry Pi/05_비전(시각형) AI/AI-X/segmentation1_dataset/seg1_dataset_v\\triangle (7).json\n",
      "Transferring C:/Embedded_System/06_Raspberry Pi/05_비전(시각형) AI/AI-X/segmentation1_dataset/seg1_dataset_v\\triangle (8).json\n",
      "Transferring C:/Embedded_System/06_Raspberry Pi/05_비전(시각형) AI/AI-X/segmentation1_dataset/seg1_dataset_v\\triangle (9).json\n",
      "Successfully created the dataset: seg1_validation\n"
     ]
    }
   ],
   "source": [
    "trainer.generateVOCDataset()"
   ]
  }
 ],
 "metadata": {
  "kernelspec": {
   "display_name": "Python 3",
   "language": "python",
   "name": "python3"
  },
  "language_info": {
   "codemirror_mode": {
    "name": "ipython",
    "version": 3
   },
   "file_extension": ".py",
   "mimetype": "text/x-python",
   "name": "python",
   "nbconvert_exporter": "python",
   "pygments_lexer": "ipython3",
   "version": "3.6.8"
  }
 },
 "nbformat": 4,
 "nbformat_minor": 5
}
