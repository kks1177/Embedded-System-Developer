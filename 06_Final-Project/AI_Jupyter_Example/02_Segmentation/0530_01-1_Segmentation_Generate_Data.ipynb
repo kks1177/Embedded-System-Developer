{
 "cells": [
  {
   "cell_type": "markdown",
   "id": "be2a284f",
   "metadata": {},
   "source": [
    "# Segmentation_Generate_Data"
   ]
  },
  {
   "cell_type": "code",
   "execution_count": 1,
   "id": "db9adbcd",
   "metadata": {},
   "outputs": [
    {
     "name": "stdout",
     "output_type": "stream",
     "text": [
      "Segmentation Models: using `keras` framework.\n"
     ]
    }
   ],
   "source": [
    "from bready.semantic_segmentation_tools import SemanticSegmentation"
   ]
  },
  {
   "cell_type": "code",
   "execution_count": 2,
   "id": "09222a10",
   "metadata": {},
   "outputs": [],
   "source": [
    "trainer = SemanticSegmentation.Trainer()"
   ]
  },
  {
   "cell_type": "code",
   "execution_count": 3,
   "id": "21c7231f",
   "metadata": {},
   "outputs": [],
   "source": [
    "original_data_path = \"C:/Embedded_System/06_Raspberry Pi/05_비전(시각형) AI/AI-X/segmentation1_dataset/seg1_dataset_t\"\n",
    "annotation_data_path = \"C:/Embedded_System/06_Raspberry Pi/05_비전(시각형) AI/AI-X/segmentation1_dataset/seg1_dataset_t\"\n",
    "class_file_path = \"C:/Embedded_System/06_Raspberry Pi/05_비전(시각형) AI/AI-X/segmentation1_dataset/seg1_classes.txt\""
   ]
  },
  {
   "cell_type": "code",
   "execution_count": 4,
   "id": "b900c7b5",
   "metadata": {},
   "outputs": [],
   "source": [
    "trainer.setImageDirectory(original_data_path)\n",
    "trainer.setAnnotationDirectory(annotation_data_path)\n",
    "trainer.setClassPath(class_file_path)"
   ]
  },
  {
   "cell_type": "code",
   "execution_count": 5,
   "id": "910d8d6f",
   "metadata": {},
   "outputs": [],
   "source": [
    "train_dataset_path = \"seg1_train\"\n",
    "trainer.setDataDirectory(train_dataset_path)"
   ]
  },
  {
   "cell_type": "code",
   "execution_count": 6,
   "id": "745a9b94",
   "metadata": {
    "scrolled": true
   },
   "outputs": [
    {
     "name": "stdout",
     "output_type": "stream",
     "text": [
      "Transferring C:/Embedded_System/06_Raspberry Pi/05_비전(시각형) AI/AI-X/segmentation1_dataset/seg1_dataset_t\\circle (1).json\n",
      "Transferring C:/Embedded_System/06_Raspberry Pi/05_비전(시각형) AI/AI-X/segmentation1_dataset/seg1_dataset_t\\circle (10).json\n",
      "Transferring C:/Embedded_System/06_Raspberry Pi/05_비전(시각형) AI/AI-X/segmentation1_dataset/seg1_dataset_t\\circle (11).json\n",
      "Transferring C:/Embedded_System/06_Raspberry Pi/05_비전(시각형) AI/AI-X/segmentation1_dataset/seg1_dataset_t\\circle (12).json\n",
      "Transferring C:/Embedded_System/06_Raspberry Pi/05_비전(시각형) AI/AI-X/segmentation1_dataset/seg1_dataset_t\\circle (13).json\n",
      "Transferring C:/Embedded_System/06_Raspberry Pi/05_비전(시각형) AI/AI-X/segmentation1_dataset/seg1_dataset_t\\circle (14).json\n",
      "Transferring C:/Embedded_System/06_Raspberry Pi/05_비전(시각형) AI/AI-X/segmentation1_dataset/seg1_dataset_t\\circle (15).json\n",
      "Transferring C:/Embedded_System/06_Raspberry Pi/05_비전(시각형) AI/AI-X/segmentation1_dataset/seg1_dataset_t\\circle (16).json\n",
      "Transferring C:/Embedded_System/06_Raspberry Pi/05_비전(시각형) AI/AI-X/segmentation1_dataset/seg1_dataset_t\\circle (17).json\n",
      "Transferring C:/Embedded_System/06_Raspberry Pi/05_비전(시각형) AI/AI-X/segmentation1_dataset/seg1_dataset_t\\circle (18).json\n",
      "Transferring C:/Embedded_System/06_Raspberry Pi/05_비전(시각형) AI/AI-X/segmentation1_dataset/seg1_dataset_t\\circle (19).json\n",
      "Transferring C:/Embedded_System/06_Raspberry Pi/05_비전(시각형) AI/AI-X/segmentation1_dataset/seg1_dataset_t\\circle (2).json\n",
      "Transferring C:/Embedded_System/06_Raspberry Pi/05_비전(시각형) AI/AI-X/segmentation1_dataset/seg1_dataset_t\\circle (20).json\n",
      "Transferring C:/Embedded_System/06_Raspberry Pi/05_비전(시각형) AI/AI-X/segmentation1_dataset/seg1_dataset_t\\circle (21).json\n",
      "Transferring C:/Embedded_System/06_Raspberry Pi/05_비전(시각형) AI/AI-X/segmentation1_dataset/seg1_dataset_t\\circle (22).json\n",
      "Transferring C:/Embedded_System/06_Raspberry Pi/05_비전(시각형) AI/AI-X/segmentation1_dataset/seg1_dataset_t\\circle (23).json\n",
      "Transferring C:/Embedded_System/06_Raspberry Pi/05_비전(시각형) AI/AI-X/segmentation1_dataset/seg1_dataset_t\\circle (24).json\n",
      "Transferring C:/Embedded_System/06_Raspberry Pi/05_비전(시각형) AI/AI-X/segmentation1_dataset/seg1_dataset_t\\circle (25).json\n",
      "Transferring C:/Embedded_System/06_Raspberry Pi/05_비전(시각형) AI/AI-X/segmentation1_dataset/seg1_dataset_t\\circle (26).json\n",
      "Transferring C:/Embedded_System/06_Raspberry Pi/05_비전(시각형) AI/AI-X/segmentation1_dataset/seg1_dataset_t\\circle (27).json\n",
      "Transferring C:/Embedded_System/06_Raspberry Pi/05_비전(시각형) AI/AI-X/segmentation1_dataset/seg1_dataset_t\\circle (28).json\n",
      "Transferring C:/Embedded_System/06_Raspberry Pi/05_비전(시각형) AI/AI-X/segmentation1_dataset/seg1_dataset_t\\circle (29).json\n",
      "Transferring C:/Embedded_System/06_Raspberry Pi/05_비전(시각형) AI/AI-X/segmentation1_dataset/seg1_dataset_t\\circle (3).json\n",
      "Transferring C:/Embedded_System/06_Raspberry Pi/05_비전(시각형) AI/AI-X/segmentation1_dataset/seg1_dataset_t\\circle (30).json\n",
      "Transferring C:/Embedded_System/06_Raspberry Pi/05_비전(시각형) AI/AI-X/segmentation1_dataset/seg1_dataset_t\\circle (31).json\n",
      "Transferring C:/Embedded_System/06_Raspberry Pi/05_비전(시각형) AI/AI-X/segmentation1_dataset/seg1_dataset_t\\circle (32).json\n",
      "Transferring C:/Embedded_System/06_Raspberry Pi/05_비전(시각형) AI/AI-X/segmentation1_dataset/seg1_dataset_t\\circle (33).json\n",
      "Transferring C:/Embedded_System/06_Raspberry Pi/05_비전(시각형) AI/AI-X/segmentation1_dataset/seg1_dataset_t\\circle (34).json\n",
      "Transferring C:/Embedded_System/06_Raspberry Pi/05_비전(시각형) AI/AI-X/segmentation1_dataset/seg1_dataset_t\\circle (35).json\n",
      "Transferring C:/Embedded_System/06_Raspberry Pi/05_비전(시각형) AI/AI-X/segmentation1_dataset/seg1_dataset_t\\circle (36).json\n",
      "Transferring C:/Embedded_System/06_Raspberry Pi/05_비전(시각형) AI/AI-X/segmentation1_dataset/seg1_dataset_t\\circle (37).json\n",
      "Transferring C:/Embedded_System/06_Raspberry Pi/05_비전(시각형) AI/AI-X/segmentation1_dataset/seg1_dataset_t\\circle (38).json\n",
      "Transferring C:/Embedded_System/06_Raspberry Pi/05_비전(시각형) AI/AI-X/segmentation1_dataset/seg1_dataset_t\\circle (39).json\n",
      "Transferring C:/Embedded_System/06_Raspberry Pi/05_비전(시각형) AI/AI-X/segmentation1_dataset/seg1_dataset_t\\circle (4).json\n",
      "Transferring C:/Embedded_System/06_Raspberry Pi/05_비전(시각형) AI/AI-X/segmentation1_dataset/seg1_dataset_t\\circle (40).json\n",
      "Transferring C:/Embedded_System/06_Raspberry Pi/05_비전(시각형) AI/AI-X/segmentation1_dataset/seg1_dataset_t\\circle (41).json\n",
      "Transferring C:/Embedded_System/06_Raspberry Pi/05_비전(시각형) AI/AI-X/segmentation1_dataset/seg1_dataset_t\\circle (42).json\n",
      "Transferring C:/Embedded_System/06_Raspberry Pi/05_비전(시각형) AI/AI-X/segmentation1_dataset/seg1_dataset_t\\circle (43).json\n",
      "Transferring C:/Embedded_System/06_Raspberry Pi/05_비전(시각형) AI/AI-X/segmentation1_dataset/seg1_dataset_t\\circle (44).json\n",
      "Transferring C:/Embedded_System/06_Raspberry Pi/05_비전(시각형) AI/AI-X/segmentation1_dataset/seg1_dataset_t\\circle (45).json\n",
      "Transferring C:/Embedded_System/06_Raspberry Pi/05_비전(시각형) AI/AI-X/segmentation1_dataset/seg1_dataset_t\\circle (46).json\n",
      "Transferring C:/Embedded_System/06_Raspberry Pi/05_비전(시각형) AI/AI-X/segmentation1_dataset/seg1_dataset_t\\circle (47).json\n",
      "Transferring C:/Embedded_System/06_Raspberry Pi/05_비전(시각형) AI/AI-X/segmentation1_dataset/seg1_dataset_t\\circle (48).json\n",
      "Transferring C:/Embedded_System/06_Raspberry Pi/05_비전(시각형) AI/AI-X/segmentation1_dataset/seg1_dataset_t\\circle (49).json\n",
      "Transferring C:/Embedded_System/06_Raspberry Pi/05_비전(시각형) AI/AI-X/segmentation1_dataset/seg1_dataset_t\\circle (5).json\n",
      "Transferring C:/Embedded_System/06_Raspberry Pi/05_비전(시각형) AI/AI-X/segmentation1_dataset/seg1_dataset_t\\circle (50).json\n",
      "Transferring C:/Embedded_System/06_Raspberry Pi/05_비전(시각형) AI/AI-X/segmentation1_dataset/seg1_dataset_t\\circle (51).json\n",
      "Transferring C:/Embedded_System/06_Raspberry Pi/05_비전(시각형) AI/AI-X/segmentation1_dataset/seg1_dataset_t\\circle (52).json\n",
      "Transferring C:/Embedded_System/06_Raspberry Pi/05_비전(시각형) AI/AI-X/segmentation1_dataset/seg1_dataset_t\\circle (53).json\n",
      "Transferring C:/Embedded_System/06_Raspberry Pi/05_비전(시각형) AI/AI-X/segmentation1_dataset/seg1_dataset_t\\circle (54).json\n",
      "Transferring C:/Embedded_System/06_Raspberry Pi/05_비전(시각형) AI/AI-X/segmentation1_dataset/seg1_dataset_t\\circle (55).json\n",
      "Transferring C:/Embedded_System/06_Raspberry Pi/05_비전(시각형) AI/AI-X/segmentation1_dataset/seg1_dataset_t\\circle (56).json\n",
      "Transferring C:/Embedded_System/06_Raspberry Pi/05_비전(시각형) AI/AI-X/segmentation1_dataset/seg1_dataset_t\\circle (57).json\n",
      "Transferring C:/Embedded_System/06_Raspberry Pi/05_비전(시각형) AI/AI-X/segmentation1_dataset/seg1_dataset_t\\circle (58).json\n",
      "Transferring C:/Embedded_System/06_Raspberry Pi/05_비전(시각형) AI/AI-X/segmentation1_dataset/seg1_dataset_t\\circle (59).json\n",
      "Transferring C:/Embedded_System/06_Raspberry Pi/05_비전(시각형) AI/AI-X/segmentation1_dataset/seg1_dataset_t\\circle (6).json\n",
      "Transferring C:/Embedded_System/06_Raspberry Pi/05_비전(시각형) AI/AI-X/segmentation1_dataset/seg1_dataset_t\\circle (60).json\n",
      "Transferring C:/Embedded_System/06_Raspberry Pi/05_비전(시각형) AI/AI-X/segmentation1_dataset/seg1_dataset_t\\circle (7).json\n",
      "Transferring C:/Embedded_System/06_Raspberry Pi/05_비전(시각형) AI/AI-X/segmentation1_dataset/seg1_dataset_t\\circle (8).json\n",
      "Transferring C:/Embedded_System/06_Raspberry Pi/05_비전(시각형) AI/AI-X/segmentation1_dataset/seg1_dataset_t\\circle (9).json\n",
      "Transferring C:/Embedded_System/06_Raspberry Pi/05_비전(시각형) AI/AI-X/segmentation1_dataset/seg1_dataset_t\\squared (1).json\n",
      "Transferring C:/Embedded_System/06_Raspberry Pi/05_비전(시각형) AI/AI-X/segmentation1_dataset/seg1_dataset_t\\squared (10).json\n",
      "Transferring C:/Embedded_System/06_Raspberry Pi/05_비전(시각형) AI/AI-X/segmentation1_dataset/seg1_dataset_t\\squared (11).json\n",
      "Transferring C:/Embedded_System/06_Raspberry Pi/05_비전(시각형) AI/AI-X/segmentation1_dataset/seg1_dataset_t\\squared (12).json\n",
      "Transferring C:/Embedded_System/06_Raspberry Pi/05_비전(시각형) AI/AI-X/segmentation1_dataset/seg1_dataset_t\\squared (13).json\n",
      "Transferring C:/Embedded_System/06_Raspberry Pi/05_비전(시각형) AI/AI-X/segmentation1_dataset/seg1_dataset_t\\squared (14).json\n",
      "Transferring C:/Embedded_System/06_Raspberry Pi/05_비전(시각형) AI/AI-X/segmentation1_dataset/seg1_dataset_t\\squared (15).json\n",
      "Transferring C:/Embedded_System/06_Raspberry Pi/05_비전(시각형) AI/AI-X/segmentation1_dataset/seg1_dataset_t\\squared (16).json\n",
      "Transferring C:/Embedded_System/06_Raspberry Pi/05_비전(시각형) AI/AI-X/segmentation1_dataset/seg1_dataset_t\\squared (17).json\n",
      "Transferring C:/Embedded_System/06_Raspberry Pi/05_비전(시각형) AI/AI-X/segmentation1_dataset/seg1_dataset_t\\squared (18).json\n"
     ]
    },
    {
     "name": "stdout",
     "output_type": "stream",
     "text": [
      "Transferring C:/Embedded_System/06_Raspberry Pi/05_비전(시각형) AI/AI-X/segmentation1_dataset/seg1_dataset_t\\squared (19).json\n",
      "Transferring C:/Embedded_System/06_Raspberry Pi/05_비전(시각형) AI/AI-X/segmentation1_dataset/seg1_dataset_t\\squared (2).json\n",
      "Transferring C:/Embedded_System/06_Raspberry Pi/05_비전(시각형) AI/AI-X/segmentation1_dataset/seg1_dataset_t\\squared (20).json\n",
      "Transferring C:/Embedded_System/06_Raspberry Pi/05_비전(시각형) AI/AI-X/segmentation1_dataset/seg1_dataset_t\\squared (21).json\n",
      "Transferring C:/Embedded_System/06_Raspberry Pi/05_비전(시각형) AI/AI-X/segmentation1_dataset/seg1_dataset_t\\squared (22).json\n",
      "Transferring C:/Embedded_System/06_Raspberry Pi/05_비전(시각형) AI/AI-X/segmentation1_dataset/seg1_dataset_t\\squared (23).json\n",
      "Transferring C:/Embedded_System/06_Raspberry Pi/05_비전(시각형) AI/AI-X/segmentation1_dataset/seg1_dataset_t\\squared (24).json\n",
      "Transferring C:/Embedded_System/06_Raspberry Pi/05_비전(시각형) AI/AI-X/segmentation1_dataset/seg1_dataset_t\\squared (25).json\n",
      "Transferring C:/Embedded_System/06_Raspberry Pi/05_비전(시각형) AI/AI-X/segmentation1_dataset/seg1_dataset_t\\squared (26).json\n",
      "Transferring C:/Embedded_System/06_Raspberry Pi/05_비전(시각형) AI/AI-X/segmentation1_dataset/seg1_dataset_t\\squared (27).json\n",
      "Transferring C:/Embedded_System/06_Raspberry Pi/05_비전(시각형) AI/AI-X/segmentation1_dataset/seg1_dataset_t\\squared (28).json\n",
      "Transferring C:/Embedded_System/06_Raspberry Pi/05_비전(시각형) AI/AI-X/segmentation1_dataset/seg1_dataset_t\\squared (29).json\n",
      "Transferring C:/Embedded_System/06_Raspberry Pi/05_비전(시각형) AI/AI-X/segmentation1_dataset/seg1_dataset_t\\squared (3).json\n",
      "Transferring C:/Embedded_System/06_Raspberry Pi/05_비전(시각형) AI/AI-X/segmentation1_dataset/seg1_dataset_t\\squared (30).json\n",
      "Transferring C:/Embedded_System/06_Raspberry Pi/05_비전(시각형) AI/AI-X/segmentation1_dataset/seg1_dataset_t\\squared (31).json\n",
      "Transferring C:/Embedded_System/06_Raspberry Pi/05_비전(시각형) AI/AI-X/segmentation1_dataset/seg1_dataset_t\\squared (32).json\n",
      "Transferring C:/Embedded_System/06_Raspberry Pi/05_비전(시각형) AI/AI-X/segmentation1_dataset/seg1_dataset_t\\squared (33).json\n",
      "Transferring C:/Embedded_System/06_Raspberry Pi/05_비전(시각형) AI/AI-X/segmentation1_dataset/seg1_dataset_t\\squared (34).json\n",
      "Transferring C:/Embedded_System/06_Raspberry Pi/05_비전(시각형) AI/AI-X/segmentation1_dataset/seg1_dataset_t\\squared (35).json\n",
      "Transferring C:/Embedded_System/06_Raspberry Pi/05_비전(시각형) AI/AI-X/segmentation1_dataset/seg1_dataset_t\\squared (36).json\n",
      "Transferring C:/Embedded_System/06_Raspberry Pi/05_비전(시각형) AI/AI-X/segmentation1_dataset/seg1_dataset_t\\squared (37).json\n",
      "Transferring C:/Embedded_System/06_Raspberry Pi/05_비전(시각형) AI/AI-X/segmentation1_dataset/seg1_dataset_t\\squared (38).json\n",
      "Transferring C:/Embedded_System/06_Raspberry Pi/05_비전(시각형) AI/AI-X/segmentation1_dataset/seg1_dataset_t\\squared (39).json\n",
      "Transferring C:/Embedded_System/06_Raspberry Pi/05_비전(시각형) AI/AI-X/segmentation1_dataset/seg1_dataset_t\\squared (4).json\n",
      "Transferring C:/Embedded_System/06_Raspberry Pi/05_비전(시각형) AI/AI-X/segmentation1_dataset/seg1_dataset_t\\squared (40).json\n",
      "Transferring C:/Embedded_System/06_Raspberry Pi/05_비전(시각형) AI/AI-X/segmentation1_dataset/seg1_dataset_t\\squared (41).json\n",
      "Transferring C:/Embedded_System/06_Raspberry Pi/05_비전(시각형) AI/AI-X/segmentation1_dataset/seg1_dataset_t\\squared (42).json\n",
      "Transferring C:/Embedded_System/06_Raspberry Pi/05_비전(시각형) AI/AI-X/segmentation1_dataset/seg1_dataset_t\\squared (43).json\n",
      "Transferring C:/Embedded_System/06_Raspberry Pi/05_비전(시각형) AI/AI-X/segmentation1_dataset/seg1_dataset_t\\squared (44).json\n",
      "Transferring C:/Embedded_System/06_Raspberry Pi/05_비전(시각형) AI/AI-X/segmentation1_dataset/seg1_dataset_t\\squared (45).json\n",
      "Transferring C:/Embedded_System/06_Raspberry Pi/05_비전(시각형) AI/AI-X/segmentation1_dataset/seg1_dataset_t\\squared (46).json\n",
      "Transferring C:/Embedded_System/06_Raspberry Pi/05_비전(시각형) AI/AI-X/segmentation1_dataset/seg1_dataset_t\\squared (47).json\n",
      "Transferring C:/Embedded_System/06_Raspberry Pi/05_비전(시각형) AI/AI-X/segmentation1_dataset/seg1_dataset_t\\squared (48).json\n",
      "Transferring C:/Embedded_System/06_Raspberry Pi/05_비전(시각형) AI/AI-X/segmentation1_dataset/seg1_dataset_t\\squared (49).json\n",
      "Transferring C:/Embedded_System/06_Raspberry Pi/05_비전(시각형) AI/AI-X/segmentation1_dataset/seg1_dataset_t\\squared (5).json\n",
      "Transferring C:/Embedded_System/06_Raspberry Pi/05_비전(시각형) AI/AI-X/segmentation1_dataset/seg1_dataset_t\\squared (50).json\n",
      "Transferring C:/Embedded_System/06_Raspberry Pi/05_비전(시각형) AI/AI-X/segmentation1_dataset/seg1_dataset_t\\squared (51).json\n",
      "Transferring C:/Embedded_System/06_Raspberry Pi/05_비전(시각형) AI/AI-X/segmentation1_dataset/seg1_dataset_t\\squared (52).json\n",
      "Transferring C:/Embedded_System/06_Raspberry Pi/05_비전(시각형) AI/AI-X/segmentation1_dataset/seg1_dataset_t\\squared (53).json\n",
      "Transferring C:/Embedded_System/06_Raspberry Pi/05_비전(시각형) AI/AI-X/segmentation1_dataset/seg1_dataset_t\\squared (54).json\n",
      "Transferring C:/Embedded_System/06_Raspberry Pi/05_비전(시각형) AI/AI-X/segmentation1_dataset/seg1_dataset_t\\squared (55).json\n",
      "Transferring C:/Embedded_System/06_Raspberry Pi/05_비전(시각형) AI/AI-X/segmentation1_dataset/seg1_dataset_t\\squared (56).json\n",
      "Transferring C:/Embedded_System/06_Raspberry Pi/05_비전(시각형) AI/AI-X/segmentation1_dataset/seg1_dataset_t\\squared (57).json\n",
      "Transferring C:/Embedded_System/06_Raspberry Pi/05_비전(시각형) AI/AI-X/segmentation1_dataset/seg1_dataset_t\\squared (58).json\n",
      "Transferring C:/Embedded_System/06_Raspberry Pi/05_비전(시각형) AI/AI-X/segmentation1_dataset/seg1_dataset_t\\squared (59).json\n",
      "Transferring C:/Embedded_System/06_Raspberry Pi/05_비전(시각형) AI/AI-X/segmentation1_dataset/seg1_dataset_t\\squared (6).json\n",
      "Transferring C:/Embedded_System/06_Raspberry Pi/05_비전(시각형) AI/AI-X/segmentation1_dataset/seg1_dataset_t\\squared (60).json\n",
      "Transferring C:/Embedded_System/06_Raspberry Pi/05_비전(시각형) AI/AI-X/segmentation1_dataset/seg1_dataset_t\\squared (7).json\n",
      "Transferring C:/Embedded_System/06_Raspberry Pi/05_비전(시각형) AI/AI-X/segmentation1_dataset/seg1_dataset_t\\squared (8).json\n",
      "Transferring C:/Embedded_System/06_Raspberry Pi/05_비전(시각형) AI/AI-X/segmentation1_dataset/seg1_dataset_t\\squared (9).json\n",
      "Transferring C:/Embedded_System/06_Raspberry Pi/05_비전(시각형) AI/AI-X/segmentation1_dataset/seg1_dataset_t\\triangle (1).json\n",
      "Transferring C:/Embedded_System/06_Raspberry Pi/05_비전(시각형) AI/AI-X/segmentation1_dataset/seg1_dataset_t\\triangle (10).json\n",
      "Transferring C:/Embedded_System/06_Raspberry Pi/05_비전(시각형) AI/AI-X/segmentation1_dataset/seg1_dataset_t\\triangle (11).json\n",
      "Transferring C:/Embedded_System/06_Raspberry Pi/05_비전(시각형) AI/AI-X/segmentation1_dataset/seg1_dataset_t\\triangle (12).json\n",
      "Transferring C:/Embedded_System/06_Raspberry Pi/05_비전(시각형) AI/AI-X/segmentation1_dataset/seg1_dataset_t\\triangle (13).json\n",
      "Transferring C:/Embedded_System/06_Raspberry Pi/05_비전(시각형) AI/AI-X/segmentation1_dataset/seg1_dataset_t\\triangle (14).json\n",
      "Transferring C:/Embedded_System/06_Raspberry Pi/05_비전(시각형) AI/AI-X/segmentation1_dataset/seg1_dataset_t\\triangle (15).json\n",
      "Transferring C:/Embedded_System/06_Raspberry Pi/05_비전(시각형) AI/AI-X/segmentation1_dataset/seg1_dataset_t\\triangle (16).json\n",
      "Transferring C:/Embedded_System/06_Raspberry Pi/05_비전(시각형) AI/AI-X/segmentation1_dataset/seg1_dataset_t\\triangle (17).json\n",
      "Transferring C:/Embedded_System/06_Raspberry Pi/05_비전(시각형) AI/AI-X/segmentation1_dataset/seg1_dataset_t\\triangle (18).json\n",
      "Transferring C:/Embedded_System/06_Raspberry Pi/05_비전(시각형) AI/AI-X/segmentation1_dataset/seg1_dataset_t\\triangle (19).json\n",
      "Transferring C:/Embedded_System/06_Raspberry Pi/05_비전(시각형) AI/AI-X/segmentation1_dataset/seg1_dataset_t\\triangle (2).json\n",
      "Transferring C:/Embedded_System/06_Raspberry Pi/05_비전(시각형) AI/AI-X/segmentation1_dataset/seg1_dataset_t\\triangle (20).json\n",
      "Transferring C:/Embedded_System/06_Raspberry Pi/05_비전(시각형) AI/AI-X/segmentation1_dataset/seg1_dataset_t\\triangle (21).json\n",
      "Transferring C:/Embedded_System/06_Raspberry Pi/05_비전(시각형) AI/AI-X/segmentation1_dataset/seg1_dataset_t\\triangle (22).json\n",
      "Transferring C:/Embedded_System/06_Raspberry Pi/05_비전(시각형) AI/AI-X/segmentation1_dataset/seg1_dataset_t\\triangle (23).json\n",
      "Transferring C:/Embedded_System/06_Raspberry Pi/05_비전(시각형) AI/AI-X/segmentation1_dataset/seg1_dataset_t\\triangle (24).json\n",
      "Transferring C:/Embedded_System/06_Raspberry Pi/05_비전(시각형) AI/AI-X/segmentation1_dataset/seg1_dataset_t\\triangle (25).json\n",
      "Transferring C:/Embedded_System/06_Raspberry Pi/05_비전(시각형) AI/AI-X/segmentation1_dataset/seg1_dataset_t\\triangle (26).json\n"
     ]
    },
    {
     "name": "stdout",
     "output_type": "stream",
     "text": [
      "Transferring C:/Embedded_System/06_Raspberry Pi/05_비전(시각형) AI/AI-X/segmentation1_dataset/seg1_dataset_t\\triangle (27).json\n",
      "Transferring C:/Embedded_System/06_Raspberry Pi/05_비전(시각형) AI/AI-X/segmentation1_dataset/seg1_dataset_t\\triangle (28).json\n",
      "Transferring C:/Embedded_System/06_Raspberry Pi/05_비전(시각형) AI/AI-X/segmentation1_dataset/seg1_dataset_t\\triangle (29).json\n",
      "Transferring C:/Embedded_System/06_Raspberry Pi/05_비전(시각형) AI/AI-X/segmentation1_dataset/seg1_dataset_t\\triangle (3).json\n",
      "Transferring C:/Embedded_System/06_Raspberry Pi/05_비전(시각형) AI/AI-X/segmentation1_dataset/seg1_dataset_t\\triangle (30).json\n",
      "Transferring C:/Embedded_System/06_Raspberry Pi/05_비전(시각형) AI/AI-X/segmentation1_dataset/seg1_dataset_t\\triangle (31).json\n",
      "Transferring C:/Embedded_System/06_Raspberry Pi/05_비전(시각형) AI/AI-X/segmentation1_dataset/seg1_dataset_t\\triangle (32).json\n",
      "Transferring C:/Embedded_System/06_Raspberry Pi/05_비전(시각형) AI/AI-X/segmentation1_dataset/seg1_dataset_t\\triangle (33).json\n",
      "Transferring C:/Embedded_System/06_Raspberry Pi/05_비전(시각형) AI/AI-X/segmentation1_dataset/seg1_dataset_t\\triangle (34).json\n",
      "Transferring C:/Embedded_System/06_Raspberry Pi/05_비전(시각형) AI/AI-X/segmentation1_dataset/seg1_dataset_t\\triangle (35).json\n",
      "Transferring C:/Embedded_System/06_Raspberry Pi/05_비전(시각형) AI/AI-X/segmentation1_dataset/seg1_dataset_t\\triangle (36).json\n",
      "Transferring C:/Embedded_System/06_Raspberry Pi/05_비전(시각형) AI/AI-X/segmentation1_dataset/seg1_dataset_t\\triangle (37).json\n",
      "Transferring C:/Embedded_System/06_Raspberry Pi/05_비전(시각형) AI/AI-X/segmentation1_dataset/seg1_dataset_t\\triangle (38).json\n",
      "Transferring C:/Embedded_System/06_Raspberry Pi/05_비전(시각형) AI/AI-X/segmentation1_dataset/seg1_dataset_t\\triangle (39).json\n",
      "Transferring C:/Embedded_System/06_Raspberry Pi/05_비전(시각형) AI/AI-X/segmentation1_dataset/seg1_dataset_t\\triangle (4).json\n",
      "Transferring C:/Embedded_System/06_Raspberry Pi/05_비전(시각형) AI/AI-X/segmentation1_dataset/seg1_dataset_t\\triangle (40).json\n",
      "Transferring C:/Embedded_System/06_Raspberry Pi/05_비전(시각형) AI/AI-X/segmentation1_dataset/seg1_dataset_t\\triangle (41).json\n",
      "Transferring C:/Embedded_System/06_Raspberry Pi/05_비전(시각형) AI/AI-X/segmentation1_dataset/seg1_dataset_t\\triangle (42).json\n",
      "Transferring C:/Embedded_System/06_Raspberry Pi/05_비전(시각형) AI/AI-X/segmentation1_dataset/seg1_dataset_t\\triangle (43).json\n",
      "Transferring C:/Embedded_System/06_Raspberry Pi/05_비전(시각형) AI/AI-X/segmentation1_dataset/seg1_dataset_t\\triangle (44).json\n",
      "Transferring C:/Embedded_System/06_Raspberry Pi/05_비전(시각형) AI/AI-X/segmentation1_dataset/seg1_dataset_t\\triangle (45).json\n",
      "Transferring C:/Embedded_System/06_Raspberry Pi/05_비전(시각형) AI/AI-X/segmentation1_dataset/seg1_dataset_t\\triangle (46).json\n",
      "Transferring C:/Embedded_System/06_Raspberry Pi/05_비전(시각형) AI/AI-X/segmentation1_dataset/seg1_dataset_t\\triangle (47).json\n",
      "Transferring C:/Embedded_System/06_Raspberry Pi/05_비전(시각형) AI/AI-X/segmentation1_dataset/seg1_dataset_t\\triangle (48).json\n",
      "Transferring C:/Embedded_System/06_Raspberry Pi/05_비전(시각형) AI/AI-X/segmentation1_dataset/seg1_dataset_t\\triangle (49).json\n",
      "Transferring C:/Embedded_System/06_Raspberry Pi/05_비전(시각형) AI/AI-X/segmentation1_dataset/seg1_dataset_t\\triangle (5).json\n",
      "Transferring C:/Embedded_System/06_Raspberry Pi/05_비전(시각형) AI/AI-X/segmentation1_dataset/seg1_dataset_t\\triangle (50).json\n",
      "Transferring C:/Embedded_System/06_Raspberry Pi/05_비전(시각형) AI/AI-X/segmentation1_dataset/seg1_dataset_t\\triangle (51).json\n",
      "Transferring C:/Embedded_System/06_Raspberry Pi/05_비전(시각형) AI/AI-X/segmentation1_dataset/seg1_dataset_t\\triangle (52).json\n",
      "Transferring C:/Embedded_System/06_Raspberry Pi/05_비전(시각형) AI/AI-X/segmentation1_dataset/seg1_dataset_t\\triangle (53).json\n",
      "Transferring C:/Embedded_System/06_Raspberry Pi/05_비전(시각형) AI/AI-X/segmentation1_dataset/seg1_dataset_t\\triangle (54).json\n",
      "Transferring C:/Embedded_System/06_Raspberry Pi/05_비전(시각형) AI/AI-X/segmentation1_dataset/seg1_dataset_t\\triangle (55).json\n",
      "Transferring C:/Embedded_System/06_Raspberry Pi/05_비전(시각형) AI/AI-X/segmentation1_dataset/seg1_dataset_t\\triangle (56).json\n",
      "Transferring C:/Embedded_System/06_Raspberry Pi/05_비전(시각형) AI/AI-X/segmentation1_dataset/seg1_dataset_t\\triangle (57).json\n",
      "Transferring C:/Embedded_System/06_Raspberry Pi/05_비전(시각형) AI/AI-X/segmentation1_dataset/seg1_dataset_t\\triangle (58).json\n",
      "Transferring C:/Embedded_System/06_Raspberry Pi/05_비전(시각형) AI/AI-X/segmentation1_dataset/seg1_dataset_t\\triangle (59).json\n",
      "Transferring C:/Embedded_System/06_Raspberry Pi/05_비전(시각형) AI/AI-X/segmentation1_dataset/seg1_dataset_t\\triangle (6).json\n",
      "Transferring C:/Embedded_System/06_Raspberry Pi/05_비전(시각형) AI/AI-X/segmentation1_dataset/seg1_dataset_t\\triangle (60).json\n",
      "Transferring C:/Embedded_System/06_Raspberry Pi/05_비전(시각형) AI/AI-X/segmentation1_dataset/seg1_dataset_t\\triangle (7).json\n",
      "Transferring C:/Embedded_System/06_Raspberry Pi/05_비전(시각형) AI/AI-X/segmentation1_dataset/seg1_dataset_t\\triangle (8).json\n",
      "Transferring C:/Embedded_System/06_Raspberry Pi/05_비전(시각형) AI/AI-X/segmentation1_dataset/seg1_dataset_t\\triangle (9).json\n",
      "Successfully created the dataset: seg1_train\n"
     ]
    }
   ],
   "source": [
    "trainer.generateVOCDataset()"
   ]
  }
 ],
 "metadata": {
  "kernelspec": {
   "display_name": "Python 3",
   "language": "python",
   "name": "python3"
  },
  "language_info": {
   "codemirror_mode": {
    "name": "ipython",
    "version": 3
   },
   "file_extension": ".py",
   "mimetype": "text/x-python",
   "name": "python",
   "nbconvert_exporter": "python",
   "pygments_lexer": "ipython3",
   "version": "3.6.8"
  }
 },
 "nbformat": 4,
 "nbformat_minor": 5
}
