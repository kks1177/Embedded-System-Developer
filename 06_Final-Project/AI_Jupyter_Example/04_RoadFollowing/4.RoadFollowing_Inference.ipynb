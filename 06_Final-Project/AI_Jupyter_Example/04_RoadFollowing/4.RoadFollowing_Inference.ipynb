{
 "cells": [
  {
   "cell_type": "markdown",
   "id": "094285ed",
   "metadata": {},
   "source": [
    "# 객체 감지 추론하기"
   ]
  },
  {
   "cell_type": "code",
   "execution_count": 1,
   "id": "f63fd398",
   "metadata": {},
   "outputs": [],
   "source": [
    "import cv2\n",
    "import time\n",
    "import bready.camera_utils.PyCamera as PyCamera\n",
    "from bready.road_following_tools import RoadFollower\n",
    "import ipywidgets.widgets as widgets\n",
    "import IPython.display"
   ]
  },
  {
   "cell_type": "code",
   "execution_count": 2,
   "id": "8a04cbd3",
   "metadata": {},
   "outputs": [],
   "source": [
    "save_model_path = \"training_models\""
   ]
  },
  {
   "cell_type": "code",
   "execution_count": 3,
   "id": "2c392ed5",
   "metadata": {},
   "outputs": [
    {
     "name": "stdout",
     "output_type": "stream",
     "text": [
      "Model을 불러오는 중...\n",
      "WARNING:tensorflow:No training configuration found in the save file, so the model was *not* compiled. Compile it manually.\n",
      "Class Label을 불러오는 중...\n",
      "전처리 옵션 설정 중...\n",
      "Class ID로부터 랜덤 색상값을 가져오는 중...\n",
      "이미지 추론 진행 중 (클래스가 처음 만들어질 때만 1번 실행)\n",
      "영상 파일 정보 : \n",
      "Video File Name : video/video_roadfollowing.mp4\n",
      "Video Width : 640.0\n",
      "Video Height : 480.0\n"
     ]
    }
   ],
   "source": [
    "tester = RoadFollower.Tester(save_model_path)\n",
    "tester.setAugmentation_Option(RoadFollower.Image_Augmentation.HALF_BLACK, True)        # HALF_BLACK : 전처리 옵션, 윗부분 절반을 검정색으로 처리(지움) True\n",
    "\n",
    "# 비디오 영상 형식의 경우 (loop=False인 경우 )\n",
    "camera = PyCamera.VideoCamera(\"video/video_roadfollowing.mp4\")"
   ]
  },
  {
   "cell_type": "code",
   "execution_count": 4,
   "id": "7567a770",
   "metadata": {
    "scrolled": false
   },
   "outputs": [
    {
     "data": {
      "application/vnd.jupyter.widget-view+json": {
       "model_id": "d307c4972e1146fda18c5166e8bfdf67",
       "version_major": 2,
       "version_minor": 0
      },
      "text/plain": [
       "Image(value=b'', format='jpeg')"
      ]
     },
     "metadata": {},
     "output_type": "display_data"
    }
   ],
   "source": [
    "image_widget = widgets.Image(format='jpeg')\n",
    "IPython.display.display(image_widget)"
   ]
  },
  {
   "cell_type": "code",
   "execution_count": 5,
   "id": "d62ca096",
   "metadata": {
    "scrolled": true
   },
   "outputs": [
    {
     "name": "stderr",
     "output_type": "stream",
     "text": [
      "C:\\Embedded_System\\06_Raspberry Pi\\05_비전(시각형) AI\\HiBready Editor\\resources\\app\\dist-python\\_internal\\python\\3.6.8\\lib\\site-packages\\ipykernel_launcher.py:15: DeprecationWarning: tostring() is deprecated. Use tobytes() instead.\n",
      "  from ipykernel import kernelapp as app\n"
     ]
    },
    {
     "name": "stdout",
     "output_type": "stream",
     "text": [
      "종료\n"
     ]
    }
   ],
   "source": [
    "# 오류 발생 혹은 실행 중지 시 이를 try catch 문으로 잡아냄\n",
    "try:\n",
    "    while True:\n",
    "        # 카메라로부터 영상 이미지를 읽어온다.\n",
    "        frame = camera.get_frame()\n",
    "        \n",
    "        # 카메라 연결이 안되어 있을 경우 종료\n",
    "        if not camera.isOpened():\n",
    "            break\n",
    "            \n",
    "        # AI 차선인식 추론 진행\n",
    "        tester.execute(frame)\n",
    "        \n",
    "        # 이미지 디스플레이\n",
    "        tmpStream = cv2.imencode(\".jpeg\", tester.getResultImage())[1].tostring()\n",
    "        image_widget.value = tmpStream\n",
    "        \n",
    "        time.sleep(0.001)\n",
    "\n",
    "except KeyboardInterrupt:\n",
    "    pass\n",
    "except Expetion as e:\n",
    "    import traceback\n",
    "    traceback.print_exc()\n",
    "    print(e)\n",
    "finally:\n",
    "    print('종료')"
   ]
  },
  {
   "cell_type": "code",
   "execution_count": 6,
   "id": "7b578205",
   "metadata": {},
   "outputs": [],
   "source": [
    "camera.dispose()\n",
    "tester.dispose()"
   ]
  }
 ],
 "metadata": {
  "kernelspec": {
   "display_name": "Python 3",
   "language": "python",
   "name": "python3"
  },
  "language_info": {
   "codemirror_mode": {
    "name": "ipython",
    "version": 3
   },
   "file_extension": ".py",
   "mimetype": "text/x-python",
   "name": "python",
   "nbconvert_exporter": "python",
   "pygments_lexer": "ipython3",
   "version": "3.6.8"
  }
 },
 "nbformat": 4,
 "nbformat_minor": 5
}
