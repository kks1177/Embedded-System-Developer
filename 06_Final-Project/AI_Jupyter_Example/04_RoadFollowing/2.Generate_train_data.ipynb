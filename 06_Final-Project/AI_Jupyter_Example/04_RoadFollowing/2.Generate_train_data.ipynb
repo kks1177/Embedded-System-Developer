{
 "cells": [
  {
   "cell_type": "code",
   "execution_count": 1,
   "id": "60d764c1",
   "metadata": {},
   "outputs": [],
   "source": [
    "from bready.road_following_tools.lib.utils.functions import *"
   ]
  },
  {
   "cell_type": "code",
   "execution_count": 2,
   "id": "a1a5b6e6",
   "metadata": {},
   "outputs": [],
   "source": [
    "DATASETS = glob.glob(\"training_data/*\")\n",
    "CATEGORIES = ['left', 'middle', 'right']\n",
    "make_dataset_directory(DATASETS)"
   ]
  },
  {
   "cell_type": "code",
   "execution_count": 3,
   "id": "3f1bb376",
   "metadata": {
    "scrolled": false
   },
   "outputs": [
    {
     "data": {
      "application/vnd.jupyter.widget-view+json": {
       "model_id": "a519d8fb159a47c9a025b826d3bbaebf",
       "version_major": 2,
       "version_minor": 0
      },
      "text/plain": [
       "VBox(children=(Dropdown(description='dataset', options=('training_data\\\\road_following_B',), value='training_d…"
      ]
     },
     "metadata": {},
     "output_type": "display_data"
    },
    {
     "data": {
      "application/vnd.jupyter.widget-view+json": {
       "model_id": "bd980b336fc543d493143c1bad364651",
       "version_major": 2,
       "version_minor": 0
      },
      "text/plain": [
       "Label(value='', description='filename')"
      ]
     },
     "metadata": {},
     "output_type": "display_data"
    },
    {
     "data": {
      "application/vnd.jupyter.widget-view+json": {
       "model_id": "4347fe4363dc4ef3bf8c103a0bfbe5ac",
       "version_major": 2,
       "version_minor": 0
      },
      "text/plain": [
       "HBox(children=(ClickableImageWidget(value=b'', format='jpeg', width='224'), Image(value=b'', format='jpeg', wi…"
      ]
     },
     "metadata": {},
     "output_type": "display_data"
    },
    {
     "data": {
      "application/vnd.jupyter.widget-view+json": {
       "model_id": "18924e169ab84eee863edd4e7cfe4745",
       "version_major": 2,
       "version_minor": 0
      },
      "text/plain": [
       "HBox(children=(VBox(children=(FloatSlider(value=0.0, description='x', max=1.0, min=-1.0, step=0.001, style=Sli…"
      ]
     },
     "metadata": {},
     "output_type": "display_data"
    },
    {
     "data": {
      "application/vnd.jupyter.widget-view+json": {
       "model_id": "aa42e1b5b8814679b455310e2a677b5a",
       "version_major": 2,
       "version_minor": 0
      },
      "text/plain": [
       "Label(value='', description='note')"
      ]
     },
     "metadata": {},
     "output_type": "display_data"
    }
   ],
   "source": [
    "generator = AI_RF_TrainImageGenerator(DATASETS, CATEGORIES)\n",
    "generator.displayUI()"
   ]
  },
  {
   "cell_type": "code",
   "execution_count": null,
   "id": "53f7dec4",
   "metadata": {},
   "outputs": [],
   "source": [
    " "
   ]
  }
 ],
 "metadata": {
  "kernelspec": {
   "display_name": "Python 3",
   "language": "python",
   "name": "python3"
  },
  "language_info": {
   "codemirror_mode": {
    "name": "ipython",
    "version": 3
   },
   "file_extension": ".py",
   "mimetype": "text/x-python",
   "name": "python",
   "nbconvert_exporter": "python",
   "pygments_lexer": "ipython3",
   "version": "3.6.8"
  }
 },
 "nbformat": 4,
 "nbformat_minor": 5
}
