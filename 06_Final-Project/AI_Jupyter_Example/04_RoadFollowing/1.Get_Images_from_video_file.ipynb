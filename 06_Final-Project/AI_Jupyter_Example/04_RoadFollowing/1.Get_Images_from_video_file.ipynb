{
 "cells": [
  {
   "cell_type": "code",
   "execution_count": 1,
   "id": "7bd9cbd1",
   "metadata": {},
   "outputs": [],
   "source": [
    "import bready.camera_utils.PyCamera as PyCamera"
   ]
  },
  {
   "cell_type": "code",
   "execution_count": 2,
   "id": "9aa549b0",
   "metadata": {},
   "outputs": [],
   "source": [
    "video_file_path = 'video/video_roadfollowing.avi'           # 촬영한 동영상 파일 저장 경로\n",
    "extraction = '0.2'                                          # 동영상 내 이미지 추출 속도..? 간격..?\n",
    "save_images_path = 'training_data/roadfollowing_B/images'   # 추출  이미지 파일 저장 경로"
   ]
  },
  {
   "cell_type": "code",
   "execution_count": 3,
   "id": "6555dfac",
   "metadata": {},
   "outputs": [
    {
     "name": "stdout",
     "output_type": "stream",
     "text": [
      "영상이 종료되어 정보를 가져올 수 없습니다.\n",
      "영상 파일이 지정되지 않았거나 잘못된 영상 형식입니다.\n",
      "추출된 프레임을 저장할 경로가 지정되지 않아 폴더를 새로 생성하였습니다.\n",
      "비디오 영상이 종료되었습니다.\n",
      "프레임 추출이 종료되었습니다.\n",
      "총 프레임 수 : 0장\n"
     ]
    }
   ],
   "source": [
    "try:\n",
    "    camera = PyCamera.VideoCamera(video_file_path, loop=False)\n",
    "    extractor = PyCamera.Camera_Frame_Extractor(\n",
    "        camera,\n",
    "        float(extraction),\n",
    "        save_images_path)\n",
    "    extractor.start(max_save=0, display=False)\n",
    "\n",
    "except:\n",
    "    pass"
   ]
  },
  {
   "cell_type": "code",
   "execution_count": null,
   "id": "0ad2274b",
   "metadata": {},
   "outputs": [],
   "source": []
  }
 ],
 "metadata": {
  "kernelspec": {
   "display_name": "Python 3",
   "language": "python",
   "name": "python3"
  },
  "language_info": {
   "codemirror_mode": {
    "name": "ipython",
    "version": 3
   },
   "file_extension": ".py",
   "mimetype": "text/x-python",
   "name": "python",
   "nbconvert_exporter": "python",
   "pygments_lexer": "ipython3",
   "version": "3.6.8"
  }
 },
 "nbformat": 4,
 "nbformat_minor": 5
}
