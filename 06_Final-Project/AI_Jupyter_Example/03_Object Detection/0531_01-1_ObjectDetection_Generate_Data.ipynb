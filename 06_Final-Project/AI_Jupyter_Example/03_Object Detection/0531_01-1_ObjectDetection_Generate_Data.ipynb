{
 "cells": [
  {
   "cell_type": "markdown",
   "id": "f961ae83",
   "metadata": {},
   "source": [
    "# 1. train data 생성"
   ]
  },
  {
   "cell_type": "code",
   "execution_count": 1,
   "id": "58681626",
   "metadata": {},
   "outputs": [],
   "source": [
    "from bready.object_detection_tools import ObjectDetector"
   ]
  },
  {
   "cell_type": "code",
   "execution_count": 2,
   "id": "b542bc8b",
   "metadata": {},
   "outputs": [],
   "source": [
    "# 생성\n",
    "trainer = ObjectDetector.Trainer()"
   ]
  },
  {
   "cell_type": "code",
   "execution_count": 7,
   "id": "7edcfe78",
   "metadata": {},
   "outputs": [],
   "source": [
    "# original_data_path = \"C:/Users/user/01_AI_ObjectDetection/dataset/Images\"\n",
    "# annotation_data_path = \"C:/Users/user/01_AI_ObjectDetection/dataset/annotations\"\n",
    "# class_file_path = \"C:/Users/user/01_AI_ObjectDetection/classes.txt\"\n",
    "\n",
    "original_data_path = \"dataset/Images\"\n",
    "annotation_data_path = \"dataset/annotations\"\n",
    "class_file_path = \"classes.txt\"\n",
    "final_data_path = \"dataset_tfrecord\"\n",
    "\n",
    "trainer.setImageDirectory(original_data_path)\n",
    "trainer.setAnnotationDirectory(annotation_data_path)\n",
    "trainer.setClassPath(class_file_path)\n",
    "trainer.setDataDirectory(final_data_path)"
   ]
  },
  {
   "cell_type": "code",
   "execution_count": 5,
   "id": "ea1ff6e4",
   "metadata": {},
   "outputs": [
    {
     "name": "stdout",
     "output_type": "stream",
     "text": [
      "Successfully converted xml to csv : dataset_tfrecord\\train.csv\n"
     ]
    },
    {
     "ename": "UnicodeDecodeError",
     "evalue": "'utf-8' codec can't decode byte 0xc1 in position 71: invalid start byte",
     "output_type": "error",
     "traceback": [
      "\u001b[1;31m---------------------------------------------------------------------------\u001b[0m",
      "\u001b[1;31mUnicodeDecodeError\u001b[0m                        Traceback (most recent call last)",
      "\u001b[1;32m<ipython-input-5-cb7c2b3ec1f2>\u001b[0m in \u001b[0;36m<module>\u001b[1;34m\u001b[0m\n\u001b[1;32m----> 1\u001b[1;33m \u001b[0mtrainer\u001b[0m\u001b[1;33m.\u001b[0m\u001b[0mgenerateTFRecords\u001b[0m\u001b[1;33m(\u001b[0m\u001b[1;33m)\u001b[0m\u001b[1;33m\u001b[0m\u001b[1;33m\u001b[0m\u001b[0m\n\u001b[0m",
      "\u001b[1;32mC:\\Embedded_System\\06_Raspberry Pi\\05_비전(시각형) AI\\HiBready Editor\\resources\\app\\dist-python\\_internal\\python\\3.6.8\\lib\\site-packages\\bready\\object_detection_tools\\lib\\training_tools\\trainer.py\u001b[0m in \u001b[0;36mgenerateTFRecords\u001b[1;34m(self)\u001b[0m\n\u001b[0;32m    147\u001b[0m \u001b[1;33m\u001b[0m\u001b[0m\n\u001b[0;32m    148\u001b[0m         \u001b[0mgenerator\u001b[0m \u001b[1;33m=\u001b[0m \u001b[0mTFRecord_Generator\u001b[0m\u001b[1;33m(\u001b[0m\u001b[0mself\u001b[0m\u001b[1;33m.\u001b[0m\u001b[0mimage_dir\u001b[0m\u001b[1;33m,\u001b[0m \u001b[0mself\u001b[0m\u001b[1;33m.\u001b[0m\u001b[0mann_dir\u001b[0m\u001b[1;33m,\u001b[0m \u001b[0mself\u001b[0m\u001b[1;33m.\u001b[0m\u001b[0mdata_dir\u001b[0m\u001b[1;33m,\u001b[0m \u001b[0mself\u001b[0m\u001b[1;33m.\u001b[0m\u001b[0mclass_path\u001b[0m\u001b[1;33m)\u001b[0m\u001b[1;33m\u001b[0m\u001b[1;33m\u001b[0m\u001b[0m\n\u001b[1;32m--> 149\u001b[1;33m         \u001b[0mgenerator\u001b[0m\u001b[1;33m.\u001b[0m\u001b[0mgenerate\u001b[0m\u001b[1;33m(\u001b[0m\u001b[1;33m)\u001b[0m\u001b[1;33m\u001b[0m\u001b[1;33m\u001b[0m\u001b[0m\n\u001b[0m\u001b[0;32m    150\u001b[0m \u001b[1;33m\u001b[0m\u001b[0m\n\u001b[0;32m    151\u001b[0m     \u001b[1;31m####### 학습 시작 단계 #######\u001b[0m\u001b[1;33m\u001b[0m\u001b[1;33m\u001b[0m\u001b[1;33m\u001b[0m\u001b[0m\n",
      "\u001b[1;32mC:\\Embedded_System\\06_Raspberry Pi\\05_비전(시각형) AI\\HiBready Editor\\resources\\app\\dist-python\\_internal\\python\\3.6.8\\lib\\site-packages\\bready\\object_detection_tools\\lib\\utils\\TFRecord_Generator.py\u001b[0m in \u001b[0;36mgenerate\u001b[1;34m(self)\u001b[0m\n\u001b[0;32m    151\u001b[0m                 \u001b[1;32mbreak\u001b[0m\u001b[1;33m\u001b[0m\u001b[1;33m\u001b[0m\u001b[0m\n\u001b[0;32m    152\u001b[0m             \u001b[0mi\u001b[0m \u001b[1;33m+=\u001b[0m \u001b[1;36m1\u001b[0m\u001b[1;33m\u001b[0m\u001b[1;33m\u001b[0m\u001b[0m\n\u001b[1;32m--> 153\u001b[1;33m             \u001b[0mtf_example\u001b[0m \u001b[1;33m=\u001b[0m \u001b[0mself\u001b[0m\u001b[1;33m.\u001b[0m\u001b[0mcreate_tf_example\u001b[0m\u001b[1;33m(\u001b[0m\u001b[0mgroup\u001b[0m\u001b[1;33m,\u001b[0m \u001b[0mself\u001b[0m\u001b[1;33m.\u001b[0m\u001b[0mimage_dir\u001b[0m\u001b[1;33m)\u001b[0m\u001b[1;33m\u001b[0m\u001b[1;33m\u001b[0m\u001b[0m\n\u001b[0m\u001b[0;32m    154\u001b[0m             \u001b[0mwriter\u001b[0m\u001b[1;33m.\u001b[0m\u001b[0mwrite\u001b[0m\u001b[1;33m(\u001b[0m\u001b[0mtf_example\u001b[0m\u001b[1;33m.\u001b[0m\u001b[0mSerializeToString\u001b[0m\u001b[1;33m(\u001b[0m\u001b[1;33m)\u001b[0m\u001b[1;33m)\u001b[0m\u001b[1;33m\u001b[0m\u001b[1;33m\u001b[0m\u001b[0m\n\u001b[0;32m    155\u001b[0m \u001b[1;33m\u001b[0m\u001b[0m\n",
      "\u001b[1;32mC:\\Embedded_System\\06_Raspberry Pi\\05_비전(시각형) AI\\HiBready Editor\\resources\\app\\dist-python\\_internal\\python\\3.6.8\\lib\\site-packages\\bready\\object_detection_tools\\lib\\utils\\TFRecord_Generator.py\u001b[0m in \u001b[0;36mcreate_tf_example\u001b[1;34m(self, group, path)\u001b[0m\n\u001b[0;32m     94\u001b[0m         \u001b[1;32mfrom\u001b[0m \u001b[0mobject_detection\u001b[0m\u001b[1;33m.\u001b[0m\u001b[0mutils\u001b[0m \u001b[1;32mimport\u001b[0m \u001b[0mdataset_util\u001b[0m\u001b[1;33m\u001b[0m\u001b[1;33m\u001b[0m\u001b[0m\n\u001b[0;32m     95\u001b[0m         \u001b[1;32mwith\u001b[0m \u001b[0mtf\u001b[0m\u001b[1;33m.\u001b[0m\u001b[0mio\u001b[0m\u001b[1;33m.\u001b[0m\u001b[0mgfile\u001b[0m\u001b[1;33m.\u001b[0m\u001b[0mGFile\u001b[0m\u001b[1;33m(\u001b[0m\u001b[0mos\u001b[0m\u001b[1;33m.\u001b[0m\u001b[0mpath\u001b[0m\u001b[1;33m.\u001b[0m\u001b[0mjoin\u001b[0m\u001b[1;33m(\u001b[0m\u001b[0mpath\u001b[0m\u001b[1;33m,\u001b[0m \u001b[1;34m'{}'\u001b[0m\u001b[1;33m.\u001b[0m\u001b[0mformat\u001b[0m\u001b[1;33m(\u001b[0m\u001b[0mgroup\u001b[0m\u001b[1;33m.\u001b[0m\u001b[0mfilename\u001b[0m\u001b[1;33m)\u001b[0m\u001b[1;33m)\u001b[0m\u001b[1;33m,\u001b[0m \u001b[1;34m'rb'\u001b[0m\u001b[1;33m)\u001b[0m \u001b[1;32mas\u001b[0m \u001b[0mfid\u001b[0m\u001b[1;33m:\u001b[0m\u001b[1;33m\u001b[0m\u001b[1;33m\u001b[0m\u001b[0m\n\u001b[1;32m---> 96\u001b[1;33m             \u001b[0mencoded_jpg\u001b[0m \u001b[1;33m=\u001b[0m \u001b[0mfid\u001b[0m\u001b[1;33m.\u001b[0m\u001b[0mread\u001b[0m\u001b[1;33m(\u001b[0m\u001b[1;33m)\u001b[0m\u001b[1;33m\u001b[0m\u001b[1;33m\u001b[0m\u001b[0m\n\u001b[0m\u001b[0;32m     97\u001b[0m         \u001b[0mencoded_jpg_io\u001b[0m \u001b[1;33m=\u001b[0m \u001b[0mio\u001b[0m\u001b[1;33m.\u001b[0m\u001b[0mBytesIO\u001b[0m\u001b[1;33m(\u001b[0m\u001b[0mencoded_jpg\u001b[0m\u001b[1;33m)\u001b[0m\u001b[1;33m\u001b[0m\u001b[1;33m\u001b[0m\u001b[0m\n\u001b[0;32m     98\u001b[0m         \u001b[0mimage\u001b[0m \u001b[1;33m=\u001b[0m \u001b[0mImage\u001b[0m\u001b[1;33m.\u001b[0m\u001b[0mopen\u001b[0m\u001b[1;33m(\u001b[0m\u001b[0mencoded_jpg_io\u001b[0m\u001b[1;33m)\u001b[0m\u001b[1;33m\u001b[0m\u001b[1;33m\u001b[0m\u001b[0m\n",
      "\u001b[1;32mC:\\Embedded_System\\06_Raspberry Pi\\05_비전(시각형) AI\\HiBready Editor\\resources\\app\\dist-python\\_internal\\python\\3.6.8\\lib\\site-packages\\tensorflow\\python\\lib\\io\\file_io.py\u001b[0m in \u001b[0;36mread\u001b[1;34m(self, n)\u001b[0m\n\u001b[0;32m    115\u001b[0m       \u001b[0mstring\u001b[0m \u001b[1;32mif\u001b[0m \u001b[1;32min\u001b[0m \u001b[0mstring\u001b[0m \u001b[1;33m(\u001b[0m\u001b[0mregular\u001b[0m\u001b[1;33m)\u001b[0m \u001b[0mmode\u001b[0m\u001b[1;33m.\u001b[0m\u001b[1;33m\u001b[0m\u001b[1;33m\u001b[0m\u001b[0m\n\u001b[0;32m    116\u001b[0m     \"\"\"\n\u001b[1;32m--> 117\u001b[1;33m     \u001b[0mself\u001b[0m\u001b[1;33m.\u001b[0m\u001b[0m_preread_check\u001b[0m\u001b[1;33m(\u001b[0m\u001b[1;33m)\u001b[0m\u001b[1;33m\u001b[0m\u001b[1;33m\u001b[0m\u001b[0m\n\u001b[0m\u001b[0;32m    118\u001b[0m     \u001b[1;32mif\u001b[0m \u001b[0mn\u001b[0m \u001b[1;33m==\u001b[0m \u001b[1;33m-\u001b[0m\u001b[1;36m1\u001b[0m\u001b[1;33m:\u001b[0m\u001b[1;33m\u001b[0m\u001b[1;33m\u001b[0m\u001b[0m\n\u001b[0;32m    119\u001b[0m       \u001b[0mlength\u001b[0m \u001b[1;33m=\u001b[0m \u001b[0mself\u001b[0m\u001b[1;33m.\u001b[0m\u001b[0msize\u001b[0m\u001b[1;33m(\u001b[0m\u001b[1;33m)\u001b[0m \u001b[1;33m-\u001b[0m \u001b[0mself\u001b[0m\u001b[1;33m.\u001b[0m\u001b[0mtell\u001b[0m\u001b[1;33m(\u001b[0m\u001b[1;33m)\u001b[0m\u001b[1;33m\u001b[0m\u001b[1;33m\u001b[0m\u001b[0m\n",
      "\u001b[1;32mC:\\Embedded_System\\06_Raspberry Pi\\05_비전(시각형) AI\\HiBready Editor\\resources\\app\\dist-python\\_internal\\python\\3.6.8\\lib\\site-packages\\tensorflow\\python\\lib\\io\\file_io.py\u001b[0m in \u001b[0;36m_preread_check\u001b[1;34m(self)\u001b[0m\n\u001b[0;32m     78\u001b[0m                                            \"File isn't open for reading\")\n\u001b[0;32m     79\u001b[0m       self._read_buf = _pywrap_file_io.BufferedInputStream(\n\u001b[1;32m---> 80\u001b[1;33m           compat.path_to_str(self.__name), 1024 * 512)\n\u001b[0m\u001b[0;32m     81\u001b[0m \u001b[1;33m\u001b[0m\u001b[0m\n\u001b[0;32m     82\u001b[0m   \u001b[1;32mdef\u001b[0m \u001b[0m_prewrite_check\u001b[0m\u001b[1;33m(\u001b[0m\u001b[0mself\u001b[0m\u001b[1;33m)\u001b[0m\u001b[1;33m:\u001b[0m\u001b[1;33m\u001b[0m\u001b[1;33m\u001b[0m\u001b[0m\n",
      "\u001b[1;31mUnicodeDecodeError\u001b[0m: 'utf-8' codec can't decode byte 0xc1 in position 71: invalid start byte"
     ]
    }
   ],
   "source": [
    "trainer.generateTFRecords()"
   ]
  },
  {
   "cell_type": "code",
   "execution_count": null,
   "id": "552f2eef",
   "metadata": {
    "scrolled": true
   },
   "outputs": [],
   "source": [
    "train_data_path = \"dataset_tfrecord\"\n",
    "save_model_path = \"training_models_checkpoint\"\n",
    "\n",
    "trainer.setDataDirectory(train_data_path)\n",
    "trainer.setSaveModelDirectory(save_model_path)"
   ]
  },
  {
   "cell_type": "code",
   "execution_count": null,
   "id": "4dca80f0",
   "metadata": {},
   "outputs": [],
   "source": [
    "batch_size = 24\n",
    "steps = 200\n",
    "trainer.setMaxSteps(steps)\n",
    "trainer.setBatchSize(batch_size)"
   ]
  },
  {
   "cell_type": "code",
   "execution_count": null,
   "id": "d0da1547",
   "metadata": {
    "scrolled": true
   },
   "outputs": [],
   "source": [
    "trainer.setAugmentation_Option(ObjectDetector.Image_Augmentation.HORIZONTAL_FLIP, False)\n",
    "trainer.setAugmentation_Option(ObjectDetector.Image_Augmentation.VERTICAL_FLIP, False)\n",
    "trainer.setAugmentation_Option(ObjectDetector.Image_Augmentation.RANDOM_BRIGHTNESS, True)\n",
    "trainer.setAugmentation_Option(ObjectDetector.Image_Augmentation.SSD_RANDOM_CROP, True)"
   ]
  },
  {
   "cell_type": "code",
   "execution_count": null,
   "id": "75ffe6b3",
   "metadata": {},
   "outputs": [],
   "source": [
    "trainer.train(continue_training=False, overwrite=True)"
   ]
  },
  {
   "cell_type": "code",
   "execution_count": null,
   "id": "6e7f635e",
   "metadata": {},
   "outputs": [],
   "source": [
    "save_model_path = \"training_models_checkpoint\"\n",
    "export_model_path = \"training_models\"\n",
    "checkpoint = 200"
   ]
  },
  {
   "cell_type": "code",
   "execution_count": null,
   "id": "792d25a5",
   "metadata": {},
   "outputs": [],
   "source": [
    "trainer.setSaveModelDirectory(save_model_path)\n",
    "trainer.freeze_graph(checkpoint=checkpoint, output_directory=export_model_path, overwrite=True)"
   ]
  },
  {
   "cell_type": "code",
   "execution_count": null,
   "id": "877e9849",
   "metadata": {},
   "outputs": [],
   "source": []
  }
 ],
 "metadata": {
  "kernelspec": {
   "display_name": "Python 3",
   "language": "python",
   "name": "python3"
  },
  "language_info": {
   "codemirror_mode": {
    "name": "ipython",
    "version": 3
   },
   "file_extension": ".py",
   "mimetype": "text/x-python",
   "name": "python",
   "nbconvert_exporter": "python",
   "pygments_lexer": "ipython3",
   "version": "3.6.8"
  }
 },
 "nbformat": 4,
 "nbformat_minor": 5
}
