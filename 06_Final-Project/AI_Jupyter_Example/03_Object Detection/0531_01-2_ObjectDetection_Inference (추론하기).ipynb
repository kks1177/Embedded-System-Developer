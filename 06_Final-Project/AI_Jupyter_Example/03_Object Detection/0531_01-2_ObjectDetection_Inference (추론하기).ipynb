{
 "cells": [
  {
   "cell_type": "markdown",
   "id": "094285ed",
   "metadata": {},
   "source": [
    "# 객체 감지 추론하기"
   ]
  },
  {
   "cell_type": "code",
   "execution_count": 1,
   "id": "f63fd398",
   "metadata": {},
   "outputs": [],
   "source": [
    "import cv2\n",
    "import time\n",
    "import bready.camera_utils.PyCamera as PyCamera\n",
    "from bready.object_detection_tools import ObjectDetector\n",
    "\n",
    "import ipywidgets as widgets\n",
    "import IPython.display"
   ]
  },
  {
   "cell_type": "code",
   "execution_count": 2,
   "id": "8a04cbd3",
   "metadata": {},
   "outputs": [],
   "source": [
    "save_model_path = \"training_models\"\n",
    "class_file_path = \"classes.txt\""
   ]
  },
  {
   "cell_type": "code",
   "execution_count": 3,
   "id": "1f8f1571",
   "metadata": {},
   "outputs": [
    {
     "name": "stdout",
     "output_type": "stream",
     "text": [
      "Model을 불러오는 중...\n",
      "모델을 가져오는 중...\n",
      "Class Label을 불러오는 중...\n",
      "Class ID로부터 랜덤 색상값을 가져오는 중...\n"
     ]
    }
   ],
   "source": [
    "tester = ObjectDetector.Tester(save_model_path, class_file_path)"
   ]
  },
  {
   "cell_type": "code",
   "execution_count": 4,
   "id": "2c392ed5",
   "metadata": {},
   "outputs": [
    {
     "name": "stdout",
     "output_type": "stream",
     "text": [
      "카메라 정보  : \n",
      "Camera Index : 0\n",
      "Camera Width : 640.0\n",
      "Camera Height : 480.0\n",
      "DSHOW_OPTION : False\n"
     ]
    }
   ],
   "source": [
    "camera = PyCamera.USBCamera(0, 640, 360, DSHOW_OPTION=False)"
   ]
  },
  {
   "cell_type": "code",
   "execution_count": 5,
   "id": "7567a770",
   "metadata": {
    "scrolled": false
   },
   "outputs": [
    {
     "data": {
      "application/vnd.jupyter.widget-view+json": {
       "model_id": "e1715261ff2a4ed7a763eda1a4937605",
       "version_major": 2,
       "version_minor": 0
      },
      "text/plain": [
       "Image(value=b'', format='jpeg')"
      ]
     },
     "metadata": {},
     "output_type": "display_data"
    }
   ],
   "source": [
    "image_widget = widgets.Image(format='jpeg')\n",
    "IPython.display.display(image_widget)"
   ]
  },
  {
   "cell_type": "code",
   "execution_count": 6,
   "id": "d62ca096",
   "metadata": {
    "scrolled": true
   },
   "outputs": [
    {
     "name": "stderr",
     "output_type": "stream",
     "text": [
      "C:\\Embedded_System\\06_Raspberry Pi\\05_비전(시각형) AI\\HiBready Editor\\resources\\app\\dist-python\\_internal\\python\\3.6.8\\lib\\site-packages\\ipykernel_launcher.py:7: DeprecationWarning: tostring() is deprecated. Use tobytes() instead.\n",
      "  import sys\n"
     ]
    },
    {
     "name": "stdout",
     "output_type": "stream",
     "text": [
      "종료\n"
     ]
    }
   ],
   "source": [
    "try:\n",
    "    while True:\n",
    "        frame = camera.get_frame()\n",
    "        if not camera.isOpened():\n",
    "            break\n",
    "        tester.execute(frame)\n",
    "        tmpStream = cv2.imencode(\".jpeg\", tester.getResultImage())[1].tostring()\n",
    "        image_widget.value = tmpStream\n",
    "        \n",
    "        time.sleep(0.001)\n",
    "\n",
    "except KeyboardInterrupt:\n",
    "    pass\n",
    "except Expetion as e:\n",
    "    import traceback\n",
    "    traceback.print_exc()\n",
    "    print(e)\n",
    "finally:\n",
    "    print('종료')"
   ]
  },
  {
   "cell_type": "code",
   "execution_count": 7,
   "id": "7b578205",
   "metadata": {},
   "outputs": [],
   "source": [
    "camera.dispose()\n",
    "tester.dispose()"
   ]
  }
 ],
 "metadata": {
  "kernelspec": {
   "display_name": "Python 3",
   "language": "python",
   "name": "python3"
  },
  "language_info": {
   "codemirror_mode": {
    "name": "ipython",
    "version": 3
   },
   "file_extension": ".py",
   "mimetype": "text/x-python",
   "name": "python",
   "nbconvert_exporter": "python",
   "pygments_lexer": "ipython3",
   "version": "3.6.8"
  }
 },
 "nbformat": 4,
 "nbformat_minor": 5
}
